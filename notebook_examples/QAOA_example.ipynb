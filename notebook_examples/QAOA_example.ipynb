{
 "cells": [
  {
   "cell_type": "markdown",
   "metadata": {},
   "source": [
    "# Simple qusetta QAOA example\n",
    "\n",
    "We'll show a very basic construction of a $p = 1$ QAOA circuit in *qusetta* form, and then translate it to qiskit, cirq, and quasar."
   ]
  },
  {
   "cell_type": "code",
   "execution_count": 1,
   "metadata": {},
   "outputs": [],
   "source": [
    "import sys; sys.path.append(\"..\")\n",
    "import qusetta as qs"
   ]
  },
  {
   "cell_type": "markdown",
   "metadata": {},
   "source": [
    "We'll look at a 3 qubit QAOA example for the Hamiltonian $$H = z_0 z_1 + z_1 z_2$$ where each $z_i \\in \\{1, -1 \\}$. We'll first write our circuit as a big string."
   ]
  },
  {
   "cell_type": "code",
   "execution_count": 2,
   "metadata": {},
   "outputs": [],
   "source": [
    "# The first element of the circuit is a column of Hadamards\n",
    "circuit = \"H(0); H(1); H(2); \"\n",
    "\n",
    "# next we have exp(-i z_0 z_1 gamma / 2)\n",
    "circuit += \"CX(0, 1); RZ({gamma})(1); CX(0, 1); \"\n",
    "\n",
    "# now the same for exp(-i z_1 z_2 gamma / 2)\n",
    "circuit += \"CX(1, 2); RZ({gamma})(2); CX(1, 2); \"\n",
    "\n",
    "# now we have a row of x rotations by beta\n",
    "circuit += \"RX({beta})(0); RX({beta})(1); RX({beta})(2)\""
   ]
  },
  {
   "cell_type": "markdown",
   "metadata": {},
   "source": [
    "That's the circuit. We can format the string to substitute in for `beta` and `gamma`, and then we split around `';'` to get it into qusetta's form."
   ]
  },
  {
   "cell_type": "code",
   "execution_count": 3,
   "metadata": {},
   "outputs": [],
   "source": [
    "def qusetta_qaoa_circuit(beta, gamma):\n",
    "    return circuit.format(beta=beta, gamma=gamma).split(\"; \")"
   ]
  },
  {
   "cell_type": "markdown",
   "metadata": {},
   "source": [
    "Let's see what it looks like without substituting any values for `beta` or `gamma`."
   ]
  },
  {
   "cell_type": "code",
   "execution_count": 4,
   "metadata": {},
   "outputs": [
    {
     "name": "stdout",
     "output_type": "stream",
     "text": [
      "['H(0)', 'H(1)', 'H(2)', 'CX(0, 1)', 'RZ(gamma)(1)', 'CX(0, 1)', 'CX(1, 2)', 'RZ(gamma)(2)', 'CX(1, 2)', 'RX(beta)(0)', 'RX(beta)(1)', 'RX(beta)(2)']\n"
     ]
    }
   ],
   "source": [
    "print(qusetta_qaoa_circuit(\"beta\", \"gamma\"))"
   ]
  },
  {
   "cell_type": "markdown",
   "metadata": {},
   "source": [
    "Next let's substitute `beta` = $\\pi/2$ and `gamma` = $\\pi/4$."
   ]
  },
  {
   "cell_type": "code",
   "execution_count": 5,
   "metadata": {},
   "outputs": [
    {
     "name": "stdout",
     "output_type": "stream",
     "text": [
      "['H(0)', 'H(1)', 'H(2)', 'CX(0, 1)', 'RZ(PI/4)(1)', 'CX(0, 1)', 'CX(1, 2)', 'RZ(PI/4)(2)', 'CX(1, 2)', 'RX(PI/2)(0)', 'RX(PI/2)(1)', 'RX(PI/2)(2)']\n"
     ]
    }
   ],
   "source": [
    "c = qusetta_qaoa_circuit(\"PI/2\", \"PI/4\")\n",
    "print(c)"
   ]
  },
  {
   "cell_type": "markdown",
   "metadata": {},
   "source": [
    "Now we convert it to a cirq circuit."
   ]
  },
  {
   "cell_type": "code",
   "execution_count": 6,
   "metadata": {},
   "outputs": [
    {
     "name": "stdout",
     "output_type": "stream",
     "text": [
      "0: ───H───@───────────────@───Rx(0.5π)──────────────────────────────\n",
      "          │               │\n",
      "1: ───H───X───Rz(0.25π)───X───@──────────────────────@───Rx(0.5π)───\n",
      "                              │                      │\n",
      "2: ───H───────────────────────X──────────Rz(0.25π)───X───Rx(0.5π)───\n"
     ]
    }
   ],
   "source": [
    "print(qs.Cirq.from_qusetta(c))"
   ]
  },
  {
   "cell_type": "markdown",
   "metadata": {},
   "source": [
    "And to quasar."
   ]
  },
  {
   "cell_type": "code",
   "execution_count": 7,
   "metadata": {},
   "outputs": [
    {
     "name": "stdout",
     "output_type": "stream",
     "text": [
      "T  : |0|1|2 |3|4 |5 |6|7 |\n",
      "\n",
      "q0 : -H-@----@-Rx---------\n",
      "        |    |            \n",
      "q1 : -H-X-Rz-X-@-----@-Rx-\n",
      "               |     |    \n",
      "q2 : -H--------X--Rz-X-Rx-\n",
      "                          \n",
      "T  : |0|1|2 |3|4 |5 |6|7 |\n",
      "\n"
     ]
    }
   ],
   "source": [
    "print(qs.Quasar.from_qusetta(c))"
   ]
  },
  {
   "cell_type": "markdown",
   "metadata": {},
   "source": [
    "And to qiskit."
   ]
  },
  {
   "cell_type": "code",
   "execution_count": 8,
   "metadata": {},
   "outputs": [
    {
     "name": "stdout",
     "output_type": "stream",
     "text": [
      "     ┌───┐                         ┌───┐    ┌──────────┐┌───┐┌──────────┐\n",
      "q_0: ┤ H ├─────────────────────────┤ X ├────┤ RZ(pi/4) ├┤ X ├┤ RX(pi/2) ├\n",
      "     ├───┤┌───┐┌──────────┐┌───┐   └─┬─┘    └──────────┘└─┬─┘├──────────┤\n",
      "q_1: ┤ H ├┤ X ├┤ RZ(pi/4) ├┤ X ├─────■────────────────────■──┤ RX(pi/2) ├\n",
      "     ├───┤└─┬─┘└──────────┘└─┬─┘┌──────────┐                 └──────────┘\n",
      "q_2: ┤ H ├──■────────────────■──┤ RX(pi/2) ├─────────────────────────────\n",
      "     └───┘                      └──────────┘                             \n"
     ]
    }
   ],
   "source": [
    "print(qs.Qiskit.from_qusetta(c))"
   ]
  },
  {
   "cell_type": "markdown",
   "metadata": {},
   "source": [
    "Notice how the bits are reversed in the qiskit circuit. Qiskit orders their qubits differently than everyone else, so qusetta automatically flips them so that the output probability vector of the qiskit circuit equivalent to that of the cirq and quasar circuit. See the README or the `qusetta.Qiskit` docstring for more info."
   ]
  }
 ],
 "metadata": {
  "kernelspec": {
   "display_name": "Python 3",
   "language": "python",
   "name": "python3"
  },
  "language_info": {
   "codemirror_mode": {
    "name": "ipython",
    "version": 3
   },
   "file_extension": ".py",
   "mimetype": "text/x-python",
   "name": "python",
   "nbconvert_exporter": "python",
   "pygments_lexer": "ipython3",
   "version": "3.6.9"
  }
 },
 "nbformat": 4,
 "nbformat_minor": 2
}

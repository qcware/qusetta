{
 "cells": [
  {
   "cell_type": "markdown",
   "metadata": {},
   "source": [
    "# Running a Qiskit QAOA circuit with Quasar/Vulcan\n",
    "\n",
    "In this notebook, we will show how to take a QAOA circuit written in Qiskit, transform it into a Quasar circuit with *qusetta*, and then run it with various Quasar features. If you want to install *qusetta* in a virtual enviroment and then add your virtual enviroment to your list of jupyter kernels, see [this post](https://janakiev.com/blog/jupyter-virtual-envs/) for more details.\n",
    "\n",
    "**Contents**\n",
    "1. [The problem](#1.-The-problem)\n",
    "2. [The circuits](#2.-The-circuits)\n",
    "3. [The cost function](#3.-The-cost-function)\n",
    "4. [Getting the cover](#4.-Getting-the-cover)\n",
    "5. [Simulating the circuits](#5.-Simulating-the-circuits)\n",
    "6. [Running and timing the circuits](#6.-Running-and-timing-the-circuits)\n",
    "7. [Outlook](#7.-Outlook)\n",
    "---"
   ]
  },
  {
   "cell_type": "markdown",
   "metadata": {},
   "source": [
    "## 1. The problem\n",
    "\n",
    "For this example, we will work with the Vertex Cover problem. We will follow the procedure in this [qiskit example notebook](https://github.com/Qiskit/qiskit-community-tutorials/blob/master/optimization/vertex_cover.ipynb) to create the problem and the QAOA circuit in qiskit.\n",
    "\n",
    "We'll begin exactly as they begin -- by creating a random graph (and seeding random for reproducability of the notebook)."
   ]
  },
  {
   "cell_type": "code",
   "execution_count": 1,
   "metadata": {},
   "outputs": [],
   "source": [
    "import numpy as np\n",
    "from qiskit.optimization.applications.ising.common import random_graph\n",
    "\n",
    "np.random.seed(123)\n",
    "num_nodes = 22\n",
    "w = random_graph(num_nodes, edge_prob=0.8, weight_range=10)"
   ]
  },
  {
   "cell_type": "markdown",
   "metadata": {},
   "source": [
    "Next we'll create the qubit operator and the corresponding QAOA instance. We'll fix a depth $p$ to work with throughout this notebook."
   ]
  },
  {
   "cell_type": "code",
   "execution_count": 2,
   "metadata": {},
   "outputs": [],
   "source": [
    "from qiskit.optimization.applications.ising import vertex_cover\n",
    "from qiskit.aqua.algorithms import QAOA\n",
    "\n",
    "qubit_op, offset = vertex_cover.get_operator(w)\n",
    "\n",
    "p = 10\n",
    "qaoa = QAOA(qubit_op, p=p)"
   ]
  },
  {
   "cell_type": "markdown",
   "metadata": {},
   "source": [
    "## 2. The circuits\n",
    "\n",
    "Now we'll write a function that takes in $\\beta_1, \\dots, \\beta_p$, and $\\gamma_1, \\dots, \\gamma_p$ and outputs the corrresponding qiskit QAOA circuit. Note that `params` is a list such that `params[:p]` is $[\\gamma_1, \\dots, \\gamma_p]$ and `params[p:]` is $[\\beta_1, \\dots, \\beta_p]$."
   ]
  },
  {
   "cell_type": "code",
   "execution_count": 3,
   "metadata": {},
   "outputs": [],
   "source": [
    "import qiskit\n",
    "from typing import List\n",
    "\n",
    "def create_qiskit_circuit(params: List[float]) -> qiskit.QuantumCircuit:\n",
    "    assert len(params) == 2 * p, \"invalid number of angles\"\n",
    "    return qaoa.var_form.construct_circuit(params)"
   ]
  },
  {
   "cell_type": "markdown",
   "metadata": {},
   "source": [
    "Next we'll write a function that uses *qusetta* to convert the qiskit circuit to a cirq circuit."
   ]
  },
  {
   "cell_type": "code",
   "execution_count": 4,
   "metadata": {},
   "outputs": [],
   "source": [
    "import qusetta as qs\n",
    "import cirq\n",
    "\n",
    "def create_cirq_circuit(params: List[float]) -> cirq.Circuit:\n",
    "    qiskit_circuit = create_qiskit_circuit(params)\n",
    "    return qs.Qiskit.to_cirq(qiskit_circuit)"
   ]
  },
  {
   "cell_type": "markdown",
   "metadata": {},
   "source": [
    "Next we'll write a function that uses *qusetta* to convert the qiskit circuit to a quasar circuit."
   ]
  },
  {
   "cell_type": "code",
   "execution_count": 5,
   "metadata": {},
   "outputs": [],
   "source": [
    "import quasar\n",
    "\n",
    "def create_quasar_circuit(params: List[float]) -> quasar.Circuit:\n",
    "    qiskit_circuit = create_qiskit_circuit(params)\n",
    "    return qs.Qiskit.to_quasar(qiskit_circuit)"
   ]
  },
  {
   "cell_type": "markdown",
   "metadata": {},
   "source": [
    "Let's see how big the circuit is."
   ]
  },
  {
   "cell_type": "code",
   "execution_count": 6,
   "metadata": {},
   "outputs": [
    {
     "name": "stdout",
     "output_type": "stream",
     "text": [
      "Number of qubits : 22\n",
      "Number of gates  : 6102\n"
     ]
    }
   ],
   "source": [
    "c = create_quasar_circuit([0.] * (2*p))\n",
    "print(\"Number of qubits :\", c.nqubit)\n",
    "print(\"Number of gates  :\", c.ngate)"
   ]
  },
  {
   "cell_type": "markdown",
   "metadata": {},
   "source": [
    "## 3. The cost function\n",
    "\n",
    "The cost function of the circuit is the expectation value of the qubit operator."
   ]
  },
  {
   "cell_type": "code",
   "execution_count": 7,
   "metadata": {},
   "outputs": [],
   "source": [
    "def expectation_value(statevector: np.ndarray) -> float:\n",
    "    # note that the second element (eg [1]) is the standard deviation\n",
    "    return offset + qubit_op.evaluate_with_statevector(statevector)[0].real"
   ]
  },
  {
   "cell_type": "markdown",
   "metadata": {},
   "source": [
    "## 4. Getting the cover\n",
    "\n",
    "We can get the Vertex Cover from the statevector outputted by the circuit. We'll choose the cover that we have the highest probability of sampling from the statevector as is done in qiskit's original notebook."
   ]
  },
  {
   "cell_type": "code",
   "execution_count": 8,
   "metadata": {},
   "outputs": [],
   "source": [
    "from qiskit.optimization.applications.ising.common import sample_most_likely\n",
    "\n",
    "def get_size_cover(statevector: np.ndarray) -> int:\n",
    "    return int(sum(\n",
    "        vertex_cover.get_graph_solution(sample_most_likely(statevector))\n",
    "    ))"
   ]
  },
  {
   "cell_type": "markdown",
   "metadata": {},
   "source": [
    "## 5. Simulating the circuits\n",
    "\n",
    "First we'll write a decorator that will decorate the simulations to print out useful information, namely (1) the time it took to run the simulation, (2) the expectation value that we get from the outputted statevector, and (3) the size of the resulting cover as determined by the `get_cover` function."
   ]
  },
  {
   "cell_type": "code",
   "execution_count": 9,
   "metadata": {},
   "outputs": [],
   "source": [
    "from typing import Callable\n",
    "import time\n",
    "\n",
    "f_type = Callable[[List[float]], np.ndarray]\n",
    "\n",
    "def info_decorator(function: f_type) -> f_type:\n",
    "    # `function` will be one of statevector_from_qiskit,\n",
    "    # statevector_from_quasar, statevector_from_cirq, or statevector_from_vulcan.\n",
    "\n",
    "    def f(params: List[float]) -> np.ndarray:\n",
    "        print('='*40)\n",
    "        print(\"Simulating with\", function.__name__)\n",
    "        print('-'*40)\n",
    "        t0 = time.time()\n",
    "        statevector = function(params)\n",
    "        print(\"Time to completion : \", round(time.time() - t0, 2), \"seconds\")\n",
    "        print(\"Expectation value  : \", round(expectation_value(statevector), 2))\n",
    "        print(\"Size of cover      : \", get_size_cover(statevector))\n",
    "        print('='*40, \"\\n\")\n",
    "        return statevector\n",
    "        \n",
    "    return f"
   ]
  },
  {
   "cell_type": "markdown",
   "metadata": {},
   "source": [
    "We will be comparing a few different simulators. First will be qiskit's statevector simulator. *This runs completely locally.*"
   ]
  },
  {
   "cell_type": "code",
   "execution_count": 10,
   "metadata": {},
   "outputs": [],
   "source": [
    "@info_decorator\n",
    "def statevector_from_qiskit(params: List[float]) -> np.ndarray:\n",
    "    return qiskit.execute(\n",
    "        create_qiskit_circuit(params),\n",
    "        qiskit.BasicAer.get_backend('statevector_simulator')\n",
    "    ).result().get_statevector()"
   ]
  },
  {
   "cell_type": "markdown",
   "metadata": {},
   "source": [
    "Next will be cirq's statevector simulator. *This runs completely locally.* Note that `cirq` by default simulates with single precision (ie `numpy.complex64`) whereas the other simulators by default simulate with double precison. So to be fair we will enforce that our cirq simulator simulates with double instead."
   ]
  },
  {
   "cell_type": "code",
   "execution_count": 11,
   "metadata": {},
   "outputs": [],
   "source": [
    "@info_decorator\n",
    "def statevector_from_cirq(params: List[float]) -> np.ndarray:\n",
    "    return cirq.Simulator(dtype=np.complex128).simulate(\n",
    "        create_cirq_circuit(params)\n",
    "    ).final_state"
   ]
  },
  {
   "cell_type": "markdown",
   "metadata": {},
   "source": [
    "Next we'll use quasar's statevector simulator. *This runs completely locally.*"
   ]
  },
  {
   "cell_type": "code",
   "execution_count": 12,
   "metadata": {},
   "outputs": [],
   "source": [
    "@info_decorator\n",
    "def statevector_from_quasar(params: List[float]) -> np.ndarray:\n",
    "    return quasar.QuasarSimulatorBackend().run_statevector(\n",
    "        circuit=create_quasar_circuit(params)\n",
    "    )"
   ]
  },
  {
   "cell_type": "markdown",
   "metadata": {},
   "source": [
    "Finally, we'll use quasar's Vulcan GPU simulator. *This runs on forge servers.*"
   ]
  },
  {
   "cell_type": "code",
   "execution_count": 13,
   "metadata": {},
   "outputs": [],
   "source": [
    "import qcware\n",
    "from qcware.circuits.quasar_backend import QuasarBackend\n",
    "qcware.config.set_api_key('Put your API key here!')\n",
    "\n",
    "@info_decorator\n",
    "def statevector_from_vulcan(params: List[float]) -> np.ndarray:\n",
    "    return QuasarBackend(\"vulcan/simulator\").run_statevector(\n",
    "        circuit=create_quasar_circuit(params)\n",
    "    )"
   ]
  },
  {
   "cell_type": "markdown",
   "metadata": {},
   "source": [
    "## 6. Running and timing the circuits\n",
    "\n",
    "Finally, we'll run the same circuit on each of the simulators and get all of the info from the `info_decorator`. *As a sanity check* we'll also make sure we get the same output probability distribution with the different simulators. *Note that the quasar, qiskit, and cirq statevectors will probably not be the same! They often differ by a global phase. Thus, their absolute value squared will be the same.* **This cell will take a long time to run!**"
   ]
  },
  {
   "cell_type": "code",
   "execution_count": 14,
   "metadata": {},
   "outputs": [
    {
     "name": "stdout",
     "output_type": "stream",
     "text": [
      "========================================\n",
      "Simulating with statevector_from_qiskit\n",
      "----------------------------------------\n",
      "Time to completion :  707.0 seconds\n",
      "Expectation value  :  248.82\n",
      "Size of cover      :  20\n",
      "======================================== \n",
      "\n",
      "========================================\n",
      "Simulating with statevector_from_cirq\n",
      "----------------------------------------\n",
      "Time to completion :  211.18 seconds\n",
      "Expectation value  :  248.82\n",
      "Size of cover      :  20\n",
      "======================================== \n",
      "\n",
      "========================================\n",
      "Simulating with statevector_from_quasar\n",
      "----------------------------------------\n",
      "Time to completion :  1279.69 seconds\n",
      "Expectation value  :  248.82\n",
      "Size of cover      :  20\n",
      "======================================== \n",
      "\n",
      "========================================\n",
      "Simulating with statevector_from_vulcan\n",
      "----------------------------------------\n",
      "Time to completion :  58.72 seconds\n",
      "Expectation value  :  248.82\n",
      "Size of cover      :  20\n",
      "======================================== \n",
      "\n"
     ]
    }
   ],
   "source": [
    "params = list(np.random.random(2*p) * np.pi)\n",
    "\n",
    "qiskit_statevector = statevector_from_qiskit(params)\n",
    "cirq_statevector   = statevector_from_cirq(params)\n",
    "quasar_statevector = statevector_from_quasar(params)\n",
    "vulcan_statevector = statev\n",
    "ector_from_vulcan(params)\n",
    "\n",
    "# check that probability vectors are the same\n",
    "np.testing.assert_allclose(np.abs(qiskit_statevector)**2, np.abs(quasar_statevector)**2)\n",
    "np.testing.assert_allclose(np.abs(cirq_statevector)**2,   np.abs(quasar_statevector)**2)\n",
    "np.testing.assert_allclose(np.abs(vulcan_statevector)**2, np.abs(quasar_statevector)**2)"
   ]
  },
  {
   "cell_type": "markdown",
   "metadata": {},
   "source": [
    "As expected, the probability vectors are all the same (since the `np.testing.assert_allclose` call did not raise an exception). Similarly, we can see that the expectation values are also the same. We didn't do any optimization of the QAOA angles, so it's no surprise that the expectation value is so bad and that the size of the cover is completely wrong. For examples of optimizing the QAOA angles, please see some of the other notebooks on forge. The purpose of this notebook was simply to show that the GPU-accelerated Vulcan quantum simulator can dramatically reduce the amount of time it takes to simulate the execution of a large quantum circuit."
   ]
  },
  {
   "cell_type": "markdown",
   "metadata": {},
   "source": [
    "## 7. Outlook\n",
    "\n",
    "The GPU simulator Vulcan significantly speeds up the circuit evaluation. Note that most of the bottleneck with the Vulcan simulator is actually just sending the statevector from the forge server back to the notebook. But if you run QAOA (optimize the angles, compute expectation values, etc.) with forge's QAOA solvers, then all the iteration is done on the forge servers and *no* time is spent sending the statevector across the wire!"
   ]
  },
  {
   "cell_type": "markdown",
   "metadata": {},
   "source": [
    "[Back to top](#Running-a-Qiskit-QAOA-circuit-with-Quasar/Vulcan)."
   ]
  }
 ],
 "metadata": {
  "kernelspec": {
   "display_name": "Python 3",
   "language": "python",
   "name": "python3"
  },
  "language_info": {
   "codemirror_mode": {
    "name": "ipython",
    "version": 3
   },
   "file_extension": ".py",
   "mimetype": "text/x-python",
   "name": "python",
   "nbconvert_exporter": "python",
   "pygments_lexer": "ipython3",
   "version": "3.6.9"
  }
 },
 "nbformat": 4,
 "nbformat_minor": 2
}
